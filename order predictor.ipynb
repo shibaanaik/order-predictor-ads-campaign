{
 "cells": [
  {
   "cell_type": "code",
   "execution_count": 12,
   "id": "cfa3b84b",
   "metadata": {},
   "outputs": [],
   "source": [
    "import pandas as pd \n",
    "import numpy as np \n",
    "import matplotlib.pyplot as plt \n",
    "import seaborn as sns"
   ]
  },
  {
   "cell_type": "code",
   "execution_count": 13,
   "id": "6f540f61",
   "metadata": {},
   "outputs": [],
   "source": [
    "df=pd.read_csv(\"campaign_sales.csv\")"
   ]
  },
  {
   "cell_type": "code",
   "execution_count": 14,
   "id": "28581db9",
   "metadata": {},
   "outputs": [
    {
     "data": {
      "text/html": [
       "<div>\n",
       "<style scoped>\n",
       "    .dataframe tbody tr th:only-of-type {\n",
       "        vertical-align: middle;\n",
       "    }\n",
       "\n",
       "    .dataframe tbody tr th {\n",
       "        vertical-align: top;\n",
       "    }\n",
       "\n",
       "    .dataframe thead th {\n",
       "        text-align: right;\n",
       "    }\n",
       "</style>\n",
       "<table border=\"1\" class=\"dataframe\">\n",
       "  <thead>\n",
       "    <tr style=\"text-align: right;\">\n",
       "      <th></th>\n",
       "      <th>limit_info</th>\n",
       "      <th>campaign_type</th>\n",
       "      <th>campaign_level</th>\n",
       "      <th>product_level</th>\n",
       "      <th>resource_amount</th>\n",
       "      <th>email_rate</th>\n",
       "      <th>price</th>\n",
       "      <th>discount_rate</th>\n",
       "      <th>hour_resources</th>\n",
       "      <th>campaign_fee</th>\n",
       "      <th>orders</th>\n",
       "    </tr>\n",
       "  </thead>\n",
       "  <tbody>\n",
       "    <tr>\n",
       "      <th>0</th>\n",
       "      <td>0</td>\n",
       "      <td>6</td>\n",
       "      <td>0</td>\n",
       "      <td>1</td>\n",
       "      <td>1</td>\n",
       "      <td>0.08</td>\n",
       "      <td>140.0</td>\n",
       "      <td>0.83</td>\n",
       "      <td>93</td>\n",
       "      <td>888</td>\n",
       "      <td>1981</td>\n",
       "    </tr>\n",
       "    <tr>\n",
       "      <th>1</th>\n",
       "      <td>0</td>\n",
       "      <td>0</td>\n",
       "      <td>0</td>\n",
       "      <td>1</td>\n",
       "      <td>1</td>\n",
       "      <td>0.10</td>\n",
       "      <td>144.0</td>\n",
       "      <td>0.75</td>\n",
       "      <td>150</td>\n",
       "      <td>836</td>\n",
       "      <td>986</td>\n",
       "    </tr>\n",
       "    <tr>\n",
       "      <th>2</th>\n",
       "      <td>0</td>\n",
       "      <td>1</td>\n",
       "      <td>1</td>\n",
       "      <td>1</td>\n",
       "      <td>1</td>\n",
       "      <td>0.12</td>\n",
       "      <td>149.0</td>\n",
       "      <td>0.84</td>\n",
       "      <td>86</td>\n",
       "      <td>1330</td>\n",
       "      <td>1416</td>\n",
       "    </tr>\n",
       "    <tr>\n",
       "      <th>3</th>\n",
       "      <td>0</td>\n",
       "      <td>3</td>\n",
       "      <td>1</td>\n",
       "      <td>2</td>\n",
       "      <td>1</td>\n",
       "      <td>0.12</td>\n",
       "      <td>141.0</td>\n",
       "      <td>0.82</td>\n",
       "      <td>95</td>\n",
       "      <td>2273</td>\n",
       "      <td>2368</td>\n",
       "    </tr>\n",
       "    <tr>\n",
       "      <th>4</th>\n",
       "      <td>0</td>\n",
       "      <td>0</td>\n",
       "      <td>0</td>\n",
       "      <td>1</td>\n",
       "      <td>1</td>\n",
       "      <td>0.10</td>\n",
       "      <td>146.0</td>\n",
       "      <td>0.59</td>\n",
       "      <td>73</td>\n",
       "      <td>1456</td>\n",
       "      <td>1529</td>\n",
       "    </tr>\n",
       "  </tbody>\n",
       "</table>\n",
       "</div>"
      ],
      "text/plain": [
       "   limit_info  campaign_type  campaign_level  product_level  resource_amount  \\\n",
       "0           0              6               0              1                1   \n",
       "1           0              0               0              1                1   \n",
       "2           0              1               1              1                1   \n",
       "3           0              3               1              2                1   \n",
       "4           0              0               0              1                1   \n",
       "\n",
       "   email_rate  price  discount_rate  hour_resources  campaign_fee  orders  \n",
       "0        0.08  140.0           0.83              93           888    1981  \n",
       "1        0.10  144.0           0.75             150           836     986  \n",
       "2        0.12  149.0           0.84              86          1330    1416  \n",
       "3        0.12  141.0           0.82              95          2273    2368  \n",
       "4        0.10  146.0           0.59              73          1456    1529  "
      ]
     },
     "execution_count": 14,
     "metadata": {},
     "output_type": "execute_result"
    }
   ],
   "source": [
    "df.head()"
   ]
  },
  {
   "cell_type": "markdown",
   "id": "b869c08e",
   "metadata": {},
   "source": [
    "limit_infor: limits or restrictions associated with the marketing campaign or product.\n",
    "\n",
    "\n",
    "campaign_type: type of marketing campaign, such as email, social media, print advertising,etc\n",
    "\n",
    "\n",
    "campaign_level: level or scale of the marketing campaign, for example, national, regional, or local.\n",
    "\n",
    "\n",
    "product_level: level or category of the product being marketed, such as high-end, mid-range, or budget.\n",
    "\n",
    "\n",
    "resource_amount: resources (e.g., budget, personnel, or materials) allocated for the marketing campaign.\n",
    "\n",
    "\n",
    "email_rate: email delivery rate or open rate.\n",
    "\n",
    "\n",
    "price: selling price of the product.\n",
    "\n",
    "\n",
    "discount_rate: discounts or promotional offers associated with the product.\n",
    "\n",
    "\n",
    "hour_resources: the number of labor hours or human resources dedicated to the marketing campaign or product sales efforts.\n",
    "\n",
    "\n",
    "campaign_fee: fees or costs associated with running the marketing campaign.\n",
    "\n",
    "\n",
    "\n",
    "orders: number of orders or sales generated for the product during the marketing campaign.\n",
    "\n",
    "\n"
   ]
  },
  {
   "cell_type": "code",
   "execution_count": 15,
   "id": "02305e5b",
   "metadata": {},
   "outputs": [
    {
     "data": {
      "text/html": [
       "<div>\n",
       "<style scoped>\n",
       "    .dataframe tbody tr th:only-of-type {\n",
       "        vertical-align: middle;\n",
       "    }\n",
       "\n",
       "    .dataframe tbody tr th {\n",
       "        vertical-align: top;\n",
       "    }\n",
       "\n",
       "    .dataframe thead th {\n",
       "        text-align: right;\n",
       "    }\n",
       "</style>\n",
       "<table border=\"1\" class=\"dataframe\">\n",
       "  <thead>\n",
       "    <tr style=\"text-align: right;\">\n",
       "      <th></th>\n",
       "      <th>limit_info</th>\n",
       "      <th>campaign_type</th>\n",
       "      <th>campaign_level</th>\n",
       "      <th>product_level</th>\n",
       "      <th>resource_amount</th>\n",
       "      <th>email_rate</th>\n",
       "      <th>price</th>\n",
       "      <th>discount_rate</th>\n",
       "      <th>hour_resources</th>\n",
       "      <th>campaign_fee</th>\n",
       "      <th>orders</th>\n",
       "    </tr>\n",
       "  </thead>\n",
       "  <tbody>\n",
       "    <tr>\n",
       "      <th>726</th>\n",
       "      <td>0</td>\n",
       "      <td>5</td>\n",
       "      <td>1</td>\n",
       "      <td>1</td>\n",
       "      <td>8</td>\n",
       "      <td>0.79</td>\n",
       "      <td>149.0</td>\n",
       "      <td>0.83</td>\n",
       "      <td>829</td>\n",
       "      <td>4634</td>\n",
       "      <td>5463</td>\n",
       "    </tr>\n",
       "    <tr>\n",
       "      <th>727</th>\n",
       "      <td>0</td>\n",
       "      <td>5</td>\n",
       "      <td>1</td>\n",
       "      <td>1</td>\n",
       "      <td>8</td>\n",
       "      <td>0.79</td>\n",
       "      <td>154.0</td>\n",
       "      <td>0.83</td>\n",
       "      <td>670</td>\n",
       "      <td>3176</td>\n",
       "      <td>3846</td>\n",
       "    </tr>\n",
       "    <tr>\n",
       "      <th>728</th>\n",
       "      <td>0</td>\n",
       "      <td>5</td>\n",
       "      <td>1</td>\n",
       "      <td>1</td>\n",
       "      <td>8</td>\n",
       "      <td>0.84</td>\n",
       "      <td>158.0</td>\n",
       "      <td>0.87</td>\n",
       "      <td>562</td>\n",
       "      <td>2825</td>\n",
       "      <td>3387</td>\n",
       "    </tr>\n",
       "    <tr>\n",
       "      <th>729</th>\n",
       "      <td>0</td>\n",
       "      <td>6</td>\n",
       "      <td>0</td>\n",
       "      <td>1</td>\n",
       "      <td>8</td>\n",
       "      <td>0.80</td>\n",
       "      <td>150.0</td>\n",
       "      <td>0.87</td>\n",
       "      <td>987</td>\n",
       "      <td>2298</td>\n",
       "      <td>3285</td>\n",
       "    </tr>\n",
       "    <tr>\n",
       "      <th>730</th>\n",
       "      <td>0</td>\n",
       "      <td>6</td>\n",
       "      <td>0</td>\n",
       "      <td>1</td>\n",
       "      <td>9</td>\n",
       "      <td>0.80</td>\n",
       "      <td>149.0</td>\n",
       "      <td>0.84</td>\n",
       "      <td>1448</td>\n",
       "      <td>3392</td>\n",
       "      <td>4840</td>\n",
       "    </tr>\n",
       "  </tbody>\n",
       "</table>\n",
       "</div>"
      ],
      "text/plain": [
       "     limit_info  campaign_type  campaign_level  product_level  \\\n",
       "726           0              5               1              1   \n",
       "727           0              5               1              1   \n",
       "728           0              5               1              1   \n",
       "729           0              6               0              1   \n",
       "730           0              6               0              1   \n",
       "\n",
       "     resource_amount  email_rate  price  discount_rate  hour_resources  \\\n",
       "726                8        0.79  149.0           0.83             829   \n",
       "727                8        0.79  154.0           0.83             670   \n",
       "728                8        0.84  158.0           0.87             562   \n",
       "729                8        0.80  150.0           0.87             987   \n",
       "730                9        0.80  149.0           0.84            1448   \n",
       "\n",
       "     campaign_fee  orders  \n",
       "726          4634    5463  \n",
       "727          3176    3846  \n",
       "728          2825    3387  \n",
       "729          2298    3285  \n",
       "730          3392    4840  "
      ]
     },
     "execution_count": 15,
     "metadata": {},
     "output_type": "execute_result"
    }
   ],
   "source": [
    "df.tail()"
   ]
  },
  {
   "cell_type": "code",
   "execution_count": 16,
   "id": "1e23638e",
   "metadata": {},
   "outputs": [
    {
     "data": {
      "text/plain": [
       "(731, 11)"
      ]
     },
     "execution_count": 16,
     "metadata": {},
     "output_type": "execute_result"
    }
   ],
   "source": [
    "df.shape"
   ]
  },
  {
   "cell_type": "code",
   "execution_count": 17,
   "id": "7c7a5855",
   "metadata": {},
   "outputs": [
    {
     "name": "stdout",
     "output_type": "stream",
     "text": [
      "<class 'pandas.core.frame.DataFrame'>\n",
      "RangeIndex: 731 entries, 0 to 730\n",
      "Data columns (total 11 columns):\n",
      " #   Column           Non-Null Count  Dtype  \n",
      "---  ------           --------------  -----  \n",
      " 0   limit_info       731 non-null    int64  \n",
      " 1   campaign_type    731 non-null    int64  \n",
      " 2   campaign_level   731 non-null    int64  \n",
      " 3   product_level    731 non-null    int64  \n",
      " 4   resource_amount  731 non-null    int64  \n",
      " 5   email_rate       731 non-null    float64\n",
      " 6   price            729 non-null    float64\n",
      " 7   discount_rate    731 non-null    float64\n",
      " 8   hour_resources   731 non-null    int64  \n",
      " 9   campaign_fee     731 non-null    int64  \n",
      " 10  orders           731 non-null    int64  \n",
      "dtypes: float64(3), int64(8)\n",
      "memory usage: 62.9 KB\n"
     ]
    }
   ],
   "source": [
    "df.info()"
   ]
  },
  {
   "cell_type": "code",
   "execution_count": 18,
   "id": "8d256ed0",
   "metadata": {},
   "outputs": [
    {
     "data": {
      "text/html": [
       "<div>\n",
       "<style scoped>\n",
       "    .dataframe tbody tr th:only-of-type {\n",
       "        vertical-align: middle;\n",
       "    }\n",
       "\n",
       "    .dataframe tbody tr th {\n",
       "        vertical-align: top;\n",
       "    }\n",
       "\n",
       "    .dataframe thead th {\n",
       "        text-align: right;\n",
       "    }\n",
       "</style>\n",
       "<table border=\"1\" class=\"dataframe\">\n",
       "  <thead>\n",
       "    <tr style=\"text-align: right;\">\n",
       "      <th></th>\n",
       "      <th>limit_info</th>\n",
       "      <th>campaign_type</th>\n",
       "      <th>campaign_level</th>\n",
       "      <th>product_level</th>\n",
       "      <th>resource_amount</th>\n",
       "      <th>email_rate</th>\n",
       "      <th>price</th>\n",
       "      <th>discount_rate</th>\n",
       "      <th>hour_resources</th>\n",
       "      <th>campaign_fee</th>\n",
       "      <th>orders</th>\n",
       "    </tr>\n",
       "  </thead>\n",
       "  <tbody>\n",
       "    <tr>\n",
       "      <th>count</th>\n",
       "      <td>731.000000</td>\n",
       "      <td>731.000000</td>\n",
       "      <td>731.000000</td>\n",
       "      <td>731.000000</td>\n",
       "      <td>731.000000</td>\n",
       "      <td>731.000000</td>\n",
       "      <td>729.000000</td>\n",
       "      <td>731.000000</td>\n",
       "      <td>731.000000</td>\n",
       "      <td>731.000000</td>\n",
       "      <td>731.000000</td>\n",
       "    </tr>\n",
       "    <tr>\n",
       "      <th>mean</th>\n",
       "      <td>0.042408</td>\n",
       "      <td>2.997264</td>\n",
       "      <td>0.683995</td>\n",
       "      <td>1.395349</td>\n",
       "      <td>4.952120</td>\n",
       "      <td>0.474337</td>\n",
       "      <td>162.812071</td>\n",
       "      <td>0.809617</td>\n",
       "      <td>848.176471</td>\n",
       "      <td>3696.391245</td>\n",
       "      <td>4531.079343</td>\n",
       "    </tr>\n",
       "    <tr>\n",
       "      <th>std</th>\n",
       "      <td>0.404911</td>\n",
       "      <td>2.004787</td>\n",
       "      <td>0.465233</td>\n",
       "      <td>0.544894</td>\n",
       "      <td>1.838449</td>\n",
       "      <td>0.162913</td>\n",
       "      <td>14.267136</td>\n",
       "      <td>0.077679</td>\n",
       "      <td>686.622488</td>\n",
       "      <td>1908.643139</td>\n",
       "      <td>1932.532346</td>\n",
       "    </tr>\n",
       "    <tr>\n",
       "      <th>min</th>\n",
       "      <td>0.000000</td>\n",
       "      <td>0.000000</td>\n",
       "      <td>0.000000</td>\n",
       "      <td>1.000000</td>\n",
       "      <td>1.000000</td>\n",
       "      <td>0.080000</td>\n",
       "      <td>100.000000</td>\n",
       "      <td>0.490000</td>\n",
       "      <td>2.000000</td>\n",
       "      <td>20.000000</td>\n",
       "      <td>22.000000</td>\n",
       "    </tr>\n",
       "    <tr>\n",
       "      <th>25%</th>\n",
       "      <td>0.000000</td>\n",
       "      <td>1.000000</td>\n",
       "      <td>0.000000</td>\n",
       "      <td>1.000000</td>\n",
       "      <td>3.000000</td>\n",
       "      <td>0.340000</td>\n",
       "      <td>152.000000</td>\n",
       "      <td>0.770000</td>\n",
       "      <td>315.500000</td>\n",
       "      <td>2497.000000</td>\n",
       "      <td>3199.000000</td>\n",
       "    </tr>\n",
       "    <tr>\n",
       "      <th>50%</th>\n",
       "      <td>0.000000</td>\n",
       "      <td>3.000000</td>\n",
       "      <td>1.000000</td>\n",
       "      <td>1.000000</td>\n",
       "      <td>5.000000</td>\n",
       "      <td>0.490000</td>\n",
       "      <td>163.000000</td>\n",
       "      <td>0.820000</td>\n",
       "      <td>713.000000</td>\n",
       "      <td>3662.000000</td>\n",
       "      <td>4563.000000</td>\n",
       "    </tr>\n",
       "    <tr>\n",
       "      <th>75%</th>\n",
       "      <td>0.000000</td>\n",
       "      <td>5.000000</td>\n",
       "      <td>1.000000</td>\n",
       "      <td>2.000000</td>\n",
       "      <td>7.000000</td>\n",
       "      <td>0.610000</td>\n",
       "      <td>173.000000</td>\n",
       "      <td>0.870000</td>\n",
       "      <td>1096.000000</td>\n",
       "      <td>4795.500000</td>\n",
       "      <td>6011.500000</td>\n",
       "    </tr>\n",
       "    <tr>\n",
       "      <th>max</th>\n",
       "      <td>10.000000</td>\n",
       "      <td>6.000000</td>\n",
       "      <td>1.000000</td>\n",
       "      <td>3.000000</td>\n",
       "      <td>9.000000</td>\n",
       "      <td>0.840000</td>\n",
       "      <td>197.000000</td>\n",
       "      <td>0.980000</td>\n",
       "      <td>3410.000000</td>\n",
       "      <td>33380.000000</td>\n",
       "      <td>8714.000000</td>\n",
       "    </tr>\n",
       "  </tbody>\n",
       "</table>\n",
       "</div>"
      ],
      "text/plain": [
       "       limit_info  campaign_type  campaign_level  product_level  \\\n",
       "count  731.000000     731.000000      731.000000     731.000000   \n",
       "mean     0.042408       2.997264        0.683995       1.395349   \n",
       "std      0.404911       2.004787        0.465233       0.544894   \n",
       "min      0.000000       0.000000        0.000000       1.000000   \n",
       "25%      0.000000       1.000000        0.000000       1.000000   \n",
       "50%      0.000000       3.000000        1.000000       1.000000   \n",
       "75%      0.000000       5.000000        1.000000       2.000000   \n",
       "max     10.000000       6.000000        1.000000       3.000000   \n",
       "\n",
       "       resource_amount  email_rate       price  discount_rate  hour_resources  \\\n",
       "count       731.000000  731.000000  729.000000     731.000000      731.000000   \n",
       "mean          4.952120    0.474337  162.812071       0.809617      848.176471   \n",
       "std           1.838449    0.162913   14.267136       0.077679      686.622488   \n",
       "min           1.000000    0.080000  100.000000       0.490000        2.000000   \n",
       "25%           3.000000    0.340000  152.000000       0.770000      315.500000   \n",
       "50%           5.000000    0.490000  163.000000       0.820000      713.000000   \n",
       "75%           7.000000    0.610000  173.000000       0.870000     1096.000000   \n",
       "max           9.000000    0.840000  197.000000       0.980000     3410.000000   \n",
       "\n",
       "       campaign_fee       orders  \n",
       "count    731.000000   731.000000  \n",
       "mean    3696.391245  4531.079343  \n",
       "std     1908.643139  1932.532346  \n",
       "min       20.000000    22.000000  \n",
       "25%     2497.000000  3199.000000  \n",
       "50%     3662.000000  4563.000000  \n",
       "75%     4795.500000  6011.500000  \n",
       "max    33380.000000  8714.000000  "
      ]
     },
     "execution_count": 18,
     "metadata": {},
     "output_type": "execute_result"
    }
   ],
   "source": [
    "df.describe()"
   ]
  },
  {
   "cell_type": "code",
   "execution_count": 19,
   "id": "5fc067be",
   "metadata": {},
   "outputs": [
    {
     "data": {
      "text/plain": [
       "limit_info         0\n",
       "campaign_type      0\n",
       "campaign_level     0\n",
       "product_level      0\n",
       "resource_amount    0\n",
       "email_rate         0\n",
       "price              2\n",
       "discount_rate      0\n",
       "hour_resources     0\n",
       "campaign_fee       0\n",
       "orders             0\n",
       "dtype: int64"
      ]
     },
     "execution_count": 19,
     "metadata": {},
     "output_type": "execute_result"
    }
   ],
   "source": [
    "df.isnull().sum()"
   ]
  },
  {
   "cell_type": "code",
   "execution_count": 20,
   "id": "6787a7af",
   "metadata": {},
   "outputs": [
    {
     "data": {
      "text/html": [
       "<div>\n",
       "<style scoped>\n",
       "    .dataframe tbody tr th:only-of-type {\n",
       "        vertical-align: middle;\n",
       "    }\n",
       "\n",
       "    .dataframe tbody tr th {\n",
       "        vertical-align: top;\n",
       "    }\n",
       "\n",
       "    .dataframe thead th {\n",
       "        text-align: right;\n",
       "    }\n",
       "</style>\n",
       "<table border=\"1\" class=\"dataframe\">\n",
       "  <thead>\n",
       "    <tr style=\"text-align: right;\">\n",
       "      <th></th>\n",
       "      <th>limit_info</th>\n",
       "      <th>campaign_type</th>\n",
       "      <th>campaign_level</th>\n",
       "      <th>product_level</th>\n",
       "      <th>resource_amount</th>\n",
       "      <th>email_rate</th>\n",
       "      <th>price</th>\n",
       "      <th>discount_rate</th>\n",
       "      <th>hour_resources</th>\n",
       "      <th>campaign_fee</th>\n",
       "      <th>orders</th>\n",
       "    </tr>\n",
       "  </thead>\n",
       "  <tbody>\n",
       "    <tr>\n",
       "      <th>55</th>\n",
       "      <td>0</td>\n",
       "      <td>6</td>\n",
       "      <td>0</td>\n",
       "      <td>2</td>\n",
       "      <td>2</td>\n",
       "      <td>0.25</td>\n",
       "      <td>NaN</td>\n",
       "      <td>0.84</td>\n",
       "      <td>222</td>\n",
       "      <td>1026</td>\n",
       "      <td>1248</td>\n",
       "    </tr>\n",
       "    <tr>\n",
       "      <th>120</th>\n",
       "      <td>0</td>\n",
       "      <td>3</td>\n",
       "      <td>1</td>\n",
       "      <td>2</td>\n",
       "      <td>3</td>\n",
       "      <td>0.30</td>\n",
       "      <td>NaN</td>\n",
       "      <td>0.79</td>\n",
       "      <td>78</td>\n",
       "      <td>1572</td>\n",
       "      <td>1650</td>\n",
       "    </tr>\n",
       "  </tbody>\n",
       "</table>\n",
       "</div>"
      ],
      "text/plain": [
       "     limit_info  campaign_type  campaign_level  product_level  \\\n",
       "55            0              6               0              2   \n",
       "120           0              3               1              2   \n",
       "\n",
       "     resource_amount  email_rate  price  discount_rate  hour_resources  \\\n",
       "55                 2        0.25    NaN           0.84             222   \n",
       "120                3        0.30    NaN           0.79              78   \n",
       "\n",
       "     campaign_fee  orders  \n",
       "55           1026    1248  \n",
       "120          1572    1650  "
      ]
     },
     "execution_count": 20,
     "metadata": {},
     "output_type": "execute_result"
    }
   ],
   "source": [
    "df[df['price'].isnull()]"
   ]
  },
  {
   "cell_type": "code",
   "execution_count": 21,
   "id": "888b94ae",
   "metadata": {},
   "outputs": [
    {
     "data": {
      "text/plain": [
       "163.0"
      ]
     },
     "execution_count": 21,
     "metadata": {},
     "output_type": "execute_result"
    }
   ],
   "source": [
    "df['price'].median()"
   ]
  },
  {
   "cell_type": "code",
   "execution_count": 22,
   "id": "c975b328",
   "metadata": {},
   "outputs": [],
   "source": [
    "df=df.fillna(163)"
   ]
  },
  {
   "cell_type": "code",
   "execution_count": 23,
   "id": "cf715ed7",
   "metadata": {},
   "outputs": [
    {
     "data": {
      "text/plain": [
       "limit_info         0\n",
       "campaign_type      0\n",
       "campaign_level     0\n",
       "product_level      0\n",
       "resource_amount    0\n",
       "email_rate         0\n",
       "price              0\n",
       "discount_rate      0\n",
       "hour_resources     0\n",
       "campaign_fee       0\n",
       "orders             0\n",
       "dtype: int64"
      ]
     },
     "execution_count": 23,
     "metadata": {},
     "output_type": "execute_result"
    }
   ],
   "source": [
    "df.isnull().sum()"
   ]
  },
  {
   "cell_type": "code",
   "execution_count": 24,
   "id": "26e39779",
   "metadata": {},
   "outputs": [
    {
     "data": {
      "text/plain": [
       "campaign_type\n",
       "6    105\n",
       "0    105\n",
       "1    105\n",
       "3    104\n",
       "4    104\n",
       "2    104\n",
       "5    104\n",
       "Name: count, dtype: int64"
      ]
     },
     "execution_count": 24,
     "metadata": {},
     "output_type": "execute_result"
    }
   ],
   "source": [
    "df['campaign_type'].value_counts()"
   ]
  },
  {
   "cell_type": "code",
   "execution_count": 25,
   "id": "65096ff8",
   "metadata": {},
   "outputs": [
    {
     "data": {
      "text/plain": [
       "campaign_level\n",
       "1    500\n",
       "0    231\n",
       "Name: count, dtype: int64"
      ]
     },
     "execution_count": 25,
     "metadata": {},
     "output_type": "execute_result"
    }
   ],
   "source": [
    "df['campaign_level'].value_counts()"
   ]
  },
  {
   "cell_type": "code",
   "execution_count": 26,
   "id": "2e5ba10a",
   "metadata": {},
   "outputs": [
    {
     "data": {
      "text/plain": [
       "<Axes: xlabel='campaign_level', ylabel='count'>"
      ]
     },
     "execution_count": 26,
     "metadata": {},
     "output_type": "execute_result"
    },
    {
     "data": {
      "image/png": "[encoded data removed]",
      "text/plain": [
       "<Figure size 640x480 with 1 Axes>"
      ]
     },
     "metadata": {},
     "output_type": "display_data"
    }
   ],
   "source": [
    "sns.countplot(x='campaign_level', data=df)"
   ]
  },
  {
   "cell_type": "code",
   "execution_count": 27,
   "id": "0fe24798",
   "metadata": {},
   "outputs": [
    {
     "data": {
      "image/png": "[encoded data removed]",
      "text/plain": [
       "<Figure size 1200x1000 with 2 Axes>"
      ]
     },
     "metadata": {},
     "output_type": "display_data"
    }
   ],
   "source": [
    "correlation_matrix = df.corr()\n",
    "\n",
    "# Plot correlation heatmap\n",
    "plt.figure(figsize=(12, 10))\n",
    "sns.heatmap(correlation_matrix, annot=True, cmap='coolwarm', linewidths=0.5)\n",
    "plt.title('Correlation Heatmap')\n",
    "plt.show()"
   ]
  },
  {
   "cell_type": "code",
   "execution_count": 28,
   "id": "889ba5a8",
   "metadata": {},
   "outputs": [],
   "source": [
    "df=df.drop(columns='limit_info')"
   ]
  },
  {
   "cell_type": "markdown",
   "id": "d2ef3ee6",
   "metadata": {},
   "source": [
    "# training and testing\n"
   ]
  },
  {
   "cell_type": "code",
   "execution_count": 29,
   "id": "5b1e29f8",
   "metadata": {},
   "outputs": [],
   "source": [
    "X = df.drop(columns=['orders'])   # Features\n",
    "y = df['orders']   #target "
   ]
  },
  {
   "cell_type": "code",
   "execution_count": 30,
   "id": "e043c271",
   "metadata": {},
   "outputs": [],
   "source": [
    "import sklearn\n",
    "from sklearn.model_selection import train_test_split\n",
    "from sklearn.linear_model import LinearRegression "
   ]
  },
  {
   "cell_type": "code",
   "execution_count": 31,
   "id": "2f8e68d5",
   "metadata": {},
   "outputs": [],
   "source": [
    "X_train,X_test,y_train,y_test=train_test_split(X, y, test_size=0.2, random_state=42)"
   ]
  },
  {
   "cell_type": "code",
   "execution_count": 32,
   "id": "1f74566f",
   "metadata": {},
   "outputs": [],
   "source": [
    "model = LinearRegression()\n",
    "model.fit(X_train, y_train)\n",
    "y_pred = model.predict(X_test)"
   ]
  },
  {
   "cell_type": "code",
   "execution_count": 33,
   "id": "da8abacd",
   "metadata": {},
   "outputs": [
    {
     "name": "stdout",
     "output_type": "stream",
     "text": [
      "Mean Absolute Error (MAE): 303.21197161511776\n",
      "Mean Squared Error (MSE): 5927812.559806954\n",
      "R-squared (R²): -0.5723860290829885\n"
     ]
    }
   ],
   "source": [
    "from sklearn.metrics import mean_absolute_error, mean_squared_error, r2_score\n",
    "\n",
    "mae = mean_absolute_error(y_test, y_pred)\n",
    "mse = mean_squared_error(y_test, y_pred)\n",
    "r2 = r2_score(y_test, y_pred)\n",
    "\n",
    "print(f\"Mean Absolute Error (MAE): {mae}\")\n",
    "print(f\"Mean Squared Error (MSE): {mse}\")\n",
    "print(f\"R-squared (R²): {r2}\")"
   ]
  },
  {
   "cell_type": "code",
   "execution_count": 34,
   "id": "c4fbd076",
   "metadata": {},
   "outputs": [
    {
     "name": "stdout",
     "output_type": "stream",
     "text": [
      "Random Forest R2: 0.936237359281927\n"
     ]
    }
   ],
   "source": [
    "from sklearn.ensemble import RandomForestRegressor\n",
    "\n",
    "rf_model = RandomForestRegressor(random_state=42)\n",
    "rf_model.fit(X_train, y_train)\n",
    "\n",
    "y_pred_rf = rf_model.predict(X_test)\n",
    "\n",
    "print(\"Random Forest R2:\", r2_score(y_test, y_pred_rf))"
   ]
  },
  {
   "cell_type": "code",
   "execution_count": 35,
   "id": "a107edaf",
   "metadata": {},
   "outputs": [],
   "source": [
    "from sklearn.tree import DecisionTreeRegressor"
   ]
  },
  {
   "cell_type": "code",
   "execution_count": 36,
   "id": "404cc022",
   "metadata": {},
   "outputs": [],
   "source": [
    "dt_model = DecisionTreeRegressor(random_state=42)\n",
    "\n",
    "# Train the model\n",
    "dt_model.fit(X_train, y_train)\n",
    "\n",
    "# Make predictions\n",
    "y_pred_dt = dt_model.predict(X_test)"
   ]
  },
  {
   "cell_type": "code",
   "execution_count": 37,
   "id": "57734ebe",
   "metadata": {},
   "outputs": [
    {
     "name": "stdout",
     "output_type": "stream",
     "text": [
      "Decision Tree Results:\n",
      "Mean Absolute Error (MAE): 283.83673469387753\n",
      "Mean Squared Error (MSE): 409513.8367346939\n",
      "R-squared (R²): 0.8913741234053503\n"
     ]
    }
   ],
   "source": [
    "mae_dt = mean_absolute_error(y_test, y_pred_dt)\n",
    "mse_dt = mean_squared_error(y_test, y_pred_dt)\n",
    "r2_dt = r2_score(y_test, y_pred_dt)\n",
    "\n",
    "print(\"Decision Tree Results:\")\n",
    "print(f\"Mean Absolute Error (MAE): {mae_dt}\")\n",
    "print(f\"Mean Squared Error (MSE): {mse_dt}\")\n",
    "print(f\"R-squared (R²): {r2_dt}\")"
   ]
  },
  {
   "cell_type": "code",
   "execution_count": 38,
   "id": "1775382b",
   "metadata": {},
   "outputs": [
    {
     "data": {
      "text/plain": [
       "['order_predictor.joblib']"
      ]
     },
     "execution_count": 38,
     "metadata": {},
     "output_type": "execute_result"
    }
   ],
   "source": [
    "import joblib\n",
    "joblib.dump(dt_model,'order_predictor.joblib')"
   ]
  },
  {
   "cell_type": "code",
   "execution_count": null,
   "id": "11b2826a",
   "metadata": {},
   "outputs": [],
   "source": []
  },
  {
   "cell_type": "code",
   "execution_count": null,
   "id": "321554e9",
   "metadata": {},
   "outputs": [],
   "source": []
  },
  {
   "cell_type": "code",
   "execution_count": null,
   "id": "8cd9e9b7",
   "metadata": {},
   "outputs": [],
   "source": []
  }
 ],
 "metadata": {
  "kernelspec": {
   "display_name": "Python (tf_env)",
   "language": "python",
   "name": "tf_env"
  },
  "language_info": {
   "codemirror_mode": {
    "name": "ipython",
    "version": 3
   },
   "file_extension": ".py",
   "mimetype": "text/x-python",
   "name": "python",
   "nbconvert_exporter": "python",
   "pygments_lexer": "ipython3",
   "version": "3.10.16"
  }
 },
 "nbformat": 4,
 "nbformat_minor": 5
}
